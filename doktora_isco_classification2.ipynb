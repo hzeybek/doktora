{
  "nbformat": 4,
  "nbformat_minor": 0,
  "metadata": {
    "kernelspec": {
      "display_name": "Python 3",
      "language": "python",
      "name": "python3"
    },
    "language_info": {
      "codemirror_mode": {
        "name": "ipython",
        "version": 3
      },
      "file_extension": ".py",
      "mimetype": "text/x-python",
      "name": "python",
      "nbconvert_exporter": "python",
      "pygments_lexer": "ipython3",
      "version": "3.7.4"
    },
    "colab": {
      "name": "doktora-isco-classification2.ipynb",
      "provenance": [],
      "include_colab_link": true
    }
  },
  "cells": [
    {
      "cell_type": "markdown",
      "metadata": {
        "id": "view-in-github",
        "colab_type": "text"
      },
      "source": [
        "<a href=\"https://colab.research.google.com/github/hzeybek/doktora/blob/main/doktora_isco_classification2.ipynb\" target=\"_parent\"><img src=\"https://colab.research.google.com/assets/colab-badge.svg\" alt=\"Open In Colab\"/></a>"
      ]
    },
    {
      "cell_type": "code",
      "metadata": {
        "colab": {
          "base_uri": "https://localhost:8080/"
        },
        "id": "-Li__ji_Jr0J",
        "outputId": "58c17da5-2b29-49b9-b452-bf7528c2c4eb"
      },
      "source": [
        "!pip install keras"
      ],
      "execution_count": null,
      "outputs": [
        {
          "output_type": "stream",
          "name": "stdout",
          "text": [
            "Requirement already satisfied: keras in /usr/local/lib/python3.7/dist-packages (2.7.0)\n"
          ]
        }
      ]
    },
    {
      "cell_type": "code",
      "metadata": {
        "id": "ghDOQFzIJr0L"
      },
      "source": [
        ""
      ],
      "execution_count": null,
      "outputs": []
    },
    {
      "cell_type": "code",
      "metadata": {
        "id": "X1W7c6u0Jr0L"
      },
      "source": [
        "import pandas as pd\n",
        "import numpy as np\n",
        "import matplotlib.pyplot as plt\n",
        "import seaborn as sns\n",
        "from sklearn.model_selection import train_test_split\n",
        "from sklearn.preprocessing import LabelEncoder\n",
        "from keras.models import Model\n",
        "from keras.layers import LSTM, Activation, Dense, Dropout, Input, Embedding, Bidirectional\n",
        "from tensorflow.keras.optimizers import RMSprop\n",
        "from keras.preprocessing.text import Tokenizer\n",
        "from keras.preprocessing import sequence\n",
        "from tensorflow.keras.utils import to_categorical\n",
        "from keras.callbacks import EarlyStopping\n",
        "%matplotlib inline"
      ],
      "execution_count": 1,
      "outputs": []
    },
    {
      "cell_type": "code",
      "metadata": {
        "colab": {
          "base_uri": "https://localhost:8080/"
        },
        "id": "LtvC_2boKP6i",
        "outputId": "20ff3b93-9038-4458-d330-71cd1d13bef5"
      },
      "source": [
        "from google.colab import drive\n",
        "drive.mount('/content/drive')"
      ],
      "execution_count": 2,
      "outputs": [
        {
          "output_type": "stream",
          "name": "stdout",
          "text": [
            "Mounted at /content/drive\n"
          ]
        }
      ]
    },
    {
      "cell_type": "code",
      "metadata": {
        "id": "cE8zeORCKo64"
      },
      "source": [
        "df = pd.read_csv('/content/drive/MyDrive/Doktora/kariyernet_is_ilanlari.csv',sep='|')\n",
        "df = df.loc[:,['title','isco08']]\n",
        "df = df.drop_duplicates()\n",
        "df['isco08'] = df['isco08'].astype(int)\n",
        "df['isco08'].unique()\n",
        "df = df[df['isco08'].map(df['isco08'].value_counts()) >5]\n",
        "df['isco08'].unique()\n",
        "df.groupby('isco08').size()\n",
        "le = LabelEncoder()\n",
        "df['encoded_categories'] = le.fit_transform(df['isco08'])"
      ],
      "execution_count": null,
      "outputs": []
    },
    {
      "cell_type": "code",
      "metadata": {
        "id": "G6WKD66EJr0M"
      },
      "source": [
        "stop_words = ['g','kg','gr','adet','l','xl','ml','xg','tb','x','m','l','rfa','k','kg*','xml','prm','a','b','c','d','e','f','g','h','i','j','k','l','m','n','o','p','r','s','t','u','v','y','z','ç','ü','ö']\n",
        "def removeStopWords(sentence):\n",
        "    for word in stop_words:\n",
        "        token = \" \" + word + \" \"\n",
        "        sentence = sentence.replace(token, \" \")\n",
        "    return sentence"
      ],
      "execution_count": null,
      "outputs": []
    },
    {
      "cell_type": "code",
      "metadata": {
        "id": "4rzkyA5PJr0M"
      },
      "source": [
        "def removeOneLetters(sentence):\n",
        "    sentence = \" \"+ sentence+\" \"\n",
        "    for word in sentence.split(\" \"):\n",
        "        if len(word)==1:\n",
        "            token = \" \" + word + \" \"\n",
        "            sentence = sentence.replace(token,\" \")\n",
        "    return sentence.strip()"
      ],
      "execution_count": null,
      "outputs": []
    },
    {
      "cell_type": "code",
      "metadata": {
        "colab": {
          "base_uri": "https://localhost:8080/"
        },
        "id": "ILvX_Lf8Jr0N",
        "outputId": "3f66800e-3e68-40eb-a1bd-5d1d4df9cd19"
      },
      "source": [
        "[removeOneLetters(x) for x in df['title']]"
      ],
      "execution_count": null,
      "outputs": [
        {
          "output_type": "execute_result",
          "data": {
            "text/plain": [
              "['Şantiye Şefi',\n",
              " 'Saha Mühendisi',\n",
              " 'İnşaat Mühendisi',\n",
              " 'Teknik Ofis Mühendisi',\n",
              " 'İnce İşler Şefi',\n",
              " 'Proje Müdürü',\n",
              " 'İhale Hazırlık Mühendisi',\n",
              " 'Akdeniz Bölge Gayrimenkul Değerleme Uzmanı',\n",
              " 'Hakediş-Kesin Hesap Yöneticisi',\n",
              " 'Yüksek İnşaat Mühendisi',\n",
              " 'Hakediş Mühendisi',\n",
              " 'Makine Mühendisi',\n",
              " 'Tasarım Mühendisi',\n",
              " 'Makine Tasarım Mühendisi',\n",
              " 'Makine Bakım Mühendisi',\n",
              " 'Satış Şefi',\n",
              " 'Talaşlı İmalat Satış Mühendisliği',\n",
              " 'Üretim Mühendisi',\n",
              " 'Dizayn Donatım Mühendisi',\n",
              " 'Mekanik Bakım Mühendisi',\n",
              " 'Mekanik Analiz Mühendisi',\n",
              " 'Kaynak Mühendisi',\n",
              " 'Mekanik Tasarım Mühendisi',\n",
              " 'Kalite Kontrol Mühendisi',\n",
              " 'İş Planlama Mühendisi',\n",
              " 'Mekanik İşler Mühendisi',\n",
              " 'Bakım Onarım Mühendisi',\n",
              " 'CAD Cam Mühendisi',\n",
              " 'Periyodik Kontrol Uzmanı',\n",
              " 'Araştırma Geliştirme Arge Mühendisi',\n",
              " 'Kimya Laboratuvar Uzmanı',\n",
              " 'AR-GE Uzmanı',\n",
              " 'Kimya Mühendisi',\n",
              " 'AR-GE Farmasötik Teknoloji Geliştirme Analisti',\n",
              " 'Kimyager Kimya Mühendisi',\n",
              " 'Kalite Kontrol Uzman Yardımcısı',\n",
              " 'Laboratuvar Müdürü',\n",
              " 'Kimyager/Kimya Mühendisi',\n",
              " 'Labaratuvar Sorumlusu',\n",
              " 'Arge Laboratuvarı Uzmanı',\n",
              " 'Muhasebe Uzmanı',\n",
              " 'Muhasebe Görevlisi',\n",
              " 'Senior Software Developer',\n",
              " 'Yazılım Geliştirme Uzmanı',\n",
              " 'Yazılım Uzmanı',\n",
              " 'PHP Yazılım Uzmanı',\n",
              " 'Backend Developer (Wordpress)',\n",
              " 'Yazılım Mühendisi (Görüntü İşleme/Yapay Zeka)',\n",
              " 'Data Scientist',\n",
              " 'Web Yazılım Uzmanı',\n",
              " 'Front-End Developer',\n",
              " 'Gömülü Yazılım Mühendisi',\n",
              " 'Yazılım Geliştirme Uzmanı (Software Developer)',\n",
              " 'Yazılım Geliştirme ve Dijital Teknolojiler Uzmanı',\n",
              " 'Senior Software Engineer',\n",
              " 'Software Engineer (Backend Developer)',\n",
              " 'Software Engineer (Full Stack Developer)',\n",
              " 'Web Developer (Antalya)',\n",
              " 'IOS Mobil Developer (Antalya)',\n",
              " 'Android Yazılım Geliştirici',\n",
              " 'Sr. Reactjs/Frontend Developer',\n",
              " '(Eba) Yazılım ve Süreç Geliştirme Uzmanı',\n",
              " 'Java Developer',\n",
              " 'Mobil Uygulama Geliştiricisi',\n",
              " 'Software Engineer',\n",
              " 'Veri Ambarı Yönetmeni',\n",
              " 'Gömülü Yazılım Geliştirme Uzmanı',\n",
              " 'DevOps Engineer',\n",
              " 'Senior PHP Developer For Ankara Office',\n",
              " 'Alanında Uzman Bilgisayar Mühendisi',\n",
              " 'Bilgisayar Mühendisi',\n",
              " 'Data Engineer',\n",
              " 'Senior Data Scientist',\n",
              " 'Senior Software Developer',\n",
              " 'Web Geliştirme Uzmanı (PHP Laravel)',\n",
              " 'Software Developer',\n",
              " 'Remote Yazılım Geliştirme Uzmanı',\n",
              " 'Yazılım Takım/Birim Yöneticisi',\n",
              " 'Junior Yazılım Geliştirme Uzmanı',\n",
              " 'Gömülü Yazılım Test ve Analiz Mühendisi',\n",
              " 'Web E-Ticaret Uzmanı',\n",
              " 'Yazılım Destek Uzmanı',\n",
              " 'İos/Android Developer',\n",
              " 'Kıdemli Yazılım Mühendisi (.Net Csharp)',\n",
              " 'Web Yazılım Uzmanı',\n",
              " 'Frontend Developer',\n",
              " 'Node.Js Developer',\n",
              " 'ASP.NET Mvc and Mobile Developer',\n",
              " 'React Developer',\n",
              " 'Backend Developer (Uçak Yazılımı)',\n",
              " 'Kıdemli Yazılım Uzmanı',\n",
              " 'Web Yazılım/Geliştirme Uzmanı',\n",
              " 'Kıdemli PHP Yazılım Geliştirme Uzmanı',\n",
              " 'Front End Developer',\n",
              " 'Remote Senior Java Developer',\n",
              " 'iOS Developer',\n",
              " 'Veri Tabanı Uzmanı',\n",
              " 'Yazılım Geliştirme Mühendisi',\n",
              " 'Software Engineer Integration Team',\n",
              " 'ASP.NET Yazılım Uzmanı',\n",
              " 'Software Development Engineer C++',\n",
              " 'Software Development Engineer',\n",
              " 'Software Development Engineer (Csharp/.Net)',\n",
              " 'Veri Mühendisi',\n",
              " 'Front-End (React) Geliştirici',\n",
              " 'iOS Geliştirici',\n",
              " 'Maliyet Kontrol Mühendisi',\n",
              " 'Data Scientist Cloud Operations Team',\n",
              " 'Mobil Uygulama Geliştirme Uzmanı',\n",
              " 'Yazılım Mühendisi',\n",
              " 'Junior Java Developer',\n",
              " 'Java Software Engineer',\n",
              " 'Sr. Android Developer',\n",
              " 'Back End Developer',\n",
              " 'Embedded Software Engineer',\n",
              " 'Gömülü Yazılım Uzmanı',\n",
              " 'Software Specialist (Java) Ankara',\n",
              " 'Senior Software Specialist Ankara',\n",
              " 'Senior Backend Developer',\n",
              " '.Net Yazılım Uzmanı',\n",
              " 'Gayrimenkul Değerleme Uzmanı',\n",
              " 'Web Geliştirme Uzmanı',\n",
              " 'Android Developer',\n",
              " 'Android Yazılım Uzmanı',\n",
              " 'Java Uygulama Geliştirme Elemanı',\n",
              " 'DevOps Expert',\n",
              " 'Frontend Developer UI Developer',\n",
              " 'Mobil Yazılım Uzmanı',\n",
              " 'Biyomedikal Mühendisi',\n",
              " 'Çelik Montaj Şefi',\n",
              " 'Çevre Mühendisi',\n",
              " 'Çevre Mühendisi_Çed Yeterlik 5/1-A Personeli',\n",
              " 'Environmental Engineer (Bandırma)',\n",
              " 'Environmental Engineer',\n",
              " 'Baymina-İsg ve Çevre Mühendisi',\n",
              " 'Mekanik Bakım Onarım Uzmanı',\n",
              " 'İş Güvenliği ve Çevre Uzmanı Koroplast',\n",
              " 'İş Güvenliği ve Çevre Şefi',\n",
              " 'Satış Mühendisi',\n",
              " 'Bakım Mühendisi',\n",
              " 'Makine Mühendisi Uzmanı',\n",
              " 'Maintenance Engineer',\n",
              " 'İmalat Mühendisi',\n",
              " 'Araştırma Geliştirme/Arge Mühendisi',\n",
              " 'Makine Mühendisi (Kayseri)',\n",
              " 'Makine Tasarım Uzmanı',\n",
              " 'Termik Santral Makine Mühendisi',\n",
              " 'AR-GE Mühendisi',\n",
              " 'Mekanik Tesisat Proje Mühendisi',\n",
              " 'Makine İkmal Müdürü',\n",
              " 'Kalıp Tasarım Mühendisi',\n",
              " 'Teklif /Şantiye Mühendisi',\n",
              " 'Mekanik Tesisat Tasarım Mühendisi Revit',\n",
              " 'Proje Mühendisi',\n",
              " 'Dizayn Mühendisi',\n",
              " 'Mekanik Tasarım Mühendisi (Manisa-İzmir)',\n",
              " 'Mekanik Tasarım Mühendisi (Ankara)',\n",
              " 'Hesaplamalı Akışkanlar Dinamiği Mühendisi Ankara',\n",
              " 'Isıl Analiz Mühendisi',\n",
              " 'Vardiya Üretim Mühendisi',\n",
              " 'Borulama Mühendisi-Stres',\n",
              " 'Talaşlı İmalat Mühendisi',\n",
              " 'Makine Bakım Yöneticisi',\n",
              " 'Kalite Mühendisi',\n",
              " 'Proje Makine Mühendisi',\n",
              " 'AR-GE Mühendisi (Mekanik Tasarım)',\n",
              " 'Mekanik Tesisat Şantiye Şefi',\n",
              " 'Montaj Metot Mühendisi',\n",
              " 'Arge Mühendisi',\n",
              " 'Test ve Devreye Alma Makine Mühendisi',\n",
              " 'Kıdemli Proje Mühendisi',\n",
              " 'Planlama Uzmanı (Sancaktepe)',\n",
              " 'Gövde Tasarım Mühendisi',\n",
              " 'Üretim Mühendisi (Rusça Bilen)',\n",
              " 'Üretim Müdürü',\n",
              " 'Mekanik Bakım ve Yardımcı İşletmeler Mühendisi',\n",
              " 'Talaşlı İmalat ve Montaj Üretim Mühendisi',\n",
              " 'Endüstri Mühendisi',\n",
              " 'Üretim Planlama ve ERP Mühendisi',\n",
              " 'Metod Mühendisi',\n",
              " 'Üretim Planlama Mühendisi',\n",
              " 'Planlama Mühendisi',\n",
              " 'Üretim Planlama Sorumlusu',\n",
              " 'İş Hazırlama ve Planlama Mühendisi',\n",
              " 'Endüstri/Tekstil Mühendisi',\n",
              " 'Mro Planlama Mühendisi',\n",
              " 'Operasyonel Mükemmellik Uzmanı',\n",
              " 'Planlama Uzmanı',\n",
              " 'Tedarik Zinciri Mühendisi',\n",
              " 'Yalın Üretim Mühendisi (Proses Mühendisi)',\n",
              " 'Lojistik Proses Mühendisi',\n",
              " 'Grup Zımpara Endüstri Mühendisi',\n",
              " 'Planlama Yöneticisi',\n",
              " 'Sürekli İyileştirme Mühendisi',\n",
              " 'Lojistik Mühendisi',\n",
              " 'Analiz ve Raporlama Uzmanı Sorumlusu',\n",
              " 'Stratejik Planlama ve Raporlama Uzmanı',\n",
              " 'Saha Kısım Şefi',\n",
              " 'ERP Proje Mühendisi',\n",
              " 'Kaba İşler Şefi',\n",
              " 'Teknik Ofis Şefi',\n",
              " 'Statik Proje Mühendisi',\n",
              " 'Gayrimenkul Değerleme Uzmanı-Erzurum İli Kadrolu',\n",
              " 'Teknik Ofis ve İhale Mühendisi',\n",
              " 'Gayrimenkul Değerleme Uzmanı ve Denetmen',\n",
              " 'Teklif Mühendisi',\n",
              " 'Kontrol Mühendisi',\n",
              " 'Sanat Yapıları Tasarım Ofis Şefi',\n",
              " 'Proje Müdür Yardımcısı',\n",
              " 'Statiker Mühendis',\n",
              " 'Gayrimenkul Değerleme Kontrol Sorumlusu',\n",
              " 'Yurtdışı Teknik Ofis Mühendisi',\n",
              " 'Yurtdışı Teknik Ofis Şefi',\n",
              " 'Çelik Montaj Mühendisi',\n",
              " 'Kıdemli Teknik Ofis Mühendisi',\n",
              " 'Gayrimenkul Değerleme Uzmanı (İstanbul)',\n",
              " 'Kadrolu Gayrimenkul Değerleme Uzmanı (Ankara)',\n",
              " 'Proje İnşaat Mühendisi',\n",
              " 'İnşaat Saha Mühendisi',\n",
              " 'Şantiye Koordinatörü',\n",
              " 'Prefabrik Mühendisi (Statiker)',\n",
              " 'Proje Müdürü Şantiye Şefi',\n",
              " 'Planlama ve Raporlama Mühendisi',\n",
              " 'Gayrimenkul Değerleme Kontrol Sorumlusu Adana',\n",
              " 'İş Güvenliği Uzmanı',\n",
              " 'Çevre Mühendisi Ve/Veya Orman Mühendisi',\n",
              " 'Araştırma Geliştirme AR-GE Analisti',\n",
              " 'Laboratuvar Mühendisi',\n",
              " 'Organik Laboratuvar Supervizörü',\n",
              " 'Kimyasal Prosesler Mühendisi',\n",
              " 'Kimya Mühendisi (Sözleşmeli)',\n",
              " 'Steril Üretim Şefi',\n",
              " 'Laboratuvar Uzmanı',\n",
              " 'Tekstil Mühendisi',\n",
              " 'Kalite Kontrol Analisti Uzmanı',\n",
              " 'AR-GE Farmasötik Teknoloji Geliştirme Uzmanı',\n",
              " 'Kalite Kontrol Analisti (Enstrümental Laboratuvar)',\n",
              " 'Kimya Mühendisi ve Kalite Kontrol.',\n",
              " 'Arge Uzman Yardımcısı',\n",
              " 'Kimya Laboratuvar Elemanı',\n",
              " 'Kimya Mühendisi/Kimyager',\n",
              " 'AR-GE ve Kalite Uzmanı',\n",
              " 'Kalite Kontrol Analisti',\n",
              " 'Formülasyon Uzmanı',\n",
              " 'Kimya Mühendisi (G.Müdür Yard. Vasıflarında)',\n",
              " 'Boyahane Müdürü',\n",
              " 'Arge Formülasyon Uzmanı',\n",
              " 'Kumaş Satın Alma Uzmanı',\n",
              " 'Kumaş Geliştirme ve İyileştirme Lideri',\n",
              " 'Yetiştirilmek Üzere Yeni Mezun Tekstil Mühendisi',\n",
              " 'Kumaş Planlama Sorumlusu',\n",
              " 'Tekstil Mühendisi (Sancaktepe)',\n",
              " 'Yetiştirilmek Üzere Tekstil Mühendisi Yeni Mezun',\n",
              " 'Kumaş Planlama Müdürü',\n",
              " 'Konfeksiyon Sorumlusu',\n",
              " 'Trim Tasarım Uzmanı',\n",
              " 'Güç Sistemleri Elektrik Elektronik Mühendisi',\n",
              " 'Kumaş Teknoloğu (Home)',\n",
              " 'Kumaş Teknoloğu',\n",
              " 'Elektrik Elektronik Mühendisi',\n",
              " 'Elektronik AR-GE Mühendisi',\n",
              " 'Teknik Ofis Elektrik Mühendisi',\n",
              " 'Teknik Yönetici (Elektrik Elektronik Mühendisi)',\n",
              " 'Donanım Tasarım Mühendisi',\n",
              " 'Elektrik Mühendisi',\n",
              " 'Elektrik Elektronik Şefi',\n",
              " 'Elektrik Otomasyon Bakım Mühendisi-Balıkesir',\n",
              " 'Zayıf Akım Sistemleri Saha Süpervizörü',\n",
              " 'Zayıf Akım Sistemleri Teknik Destek Uzmanı',\n",
              " 'Elektrik Tasarım Mühendisi',\n",
              " 'Sistem Mühendisi',\n",
              " 'Elektrik Bakım Yöneticisi (Kocaeli)',\n",
              " 'Zayıf Akım Sistemleri Servis Sorumlusu',\n",
              " 'Elektronik Tasarım Mühendisi',\n",
              " 'Elektrik Bakım Şefi',\n",
              " 'Elektrik Mühendisi',\n",
              " 'Elektrik Mühendisleri',\n",
              " 'Elektrik Saha Mühendisi',\n",
              " 'Elektrik Otomasyon Mühendisi',\n",
              " 'Elektronik Sistemlerinden Sorumlu Mühendis',\n",
              " 'Elektrik Sistemlerinden Sorumlu Mühendis',\n",
              " 'Elektrik-Elektronik Otomasyon Mühendisi',\n",
              " 'Gömülü Sistem Yazılım Geliştirme Mühendisi',\n",
              " 'Hidroelektrik Santral Müdürü',\n",
              " 'Otomasyon Uzmanı',\n",
              " 'Enstrümantasyon ve Kontrol Mühendisi',\n",
              " 'Elektrik Bakım Şefi',\n",
              " 'Entegre Güvenlik Çözümleri Uzman Yardımcısı',\n",
              " 'Test Mühendisi-Kayseri (Elektrik&Elektronik)',\n",
              " 'Test Mühendisi (Elektrik&Elektronik)',\n",
              " 'Elektrik Elektronik Bakım Onarım Mühendisi',\n",
              " 'Elektrik Şefi',\n",
              " 'Elektrik Mühendisi (Jr)',\n",
              " 'Elektrik Bakım Mühendisi',\n",
              " 'Bakım Onarım Otomasyon Mühendisi',\n",
              " 'Elektrik Otomasyon Mühendisi',\n",
              " 'Elektrik Altyapı ve Enerji Yönetimi Yöneticisi',\n",
              " 'Rf Tasarım Mühendisi',\n",
              " 'Kıdemli Elektrik Proje Mühendisi',\n",
              " 'Elektrik Elektronik Tasarım Mühendisi',\n",
              " 'Elektrik/Elektronik Mühendisi',\n",
              " 'Elektronik Harp Sistemleri Mühendisi',\n",
              " 'Elektrik -Elektrik Elektronik Mühendisi',\n",
              " 'Elektrik İşleri Şefi',\n",
              " 'Elektrik Tasarım Uzman Uzman Yardımcısı',\n",
              " 'Teknik Servis Mühendisi',\n",
              " 'Yetiştirilmek Üzere Elektrik Mühendisi',\n",
              " 'Kablosuz Haberleşme Mühendisi',\n",
              " 'Elektrik Otomasyon Bakım Mühendisi',\n",
              " 'Elektrik Bakım/Otomasyon Mühendisi',\n",
              " 'Scada Mühendisi',\n",
              " 'Otomasyon Proje Mühendisi',\n",
              " 'Ödeme İşlemleri Yetkilisi',\n",
              " 'Hesap Analiz Sorumlusu',\n",
              " 'Tahakkuk İşlemleri Yetkilisi',\n",
              " 'Muhasebe Sorumlusu',\n",
              " 'Çevresel Etki Değerlendirmesi (Çed) Uzmanı',\n",
              " 'Sınıfı İş Güvenliği Uzmanı',\n",
              " 'Environment Engineer',\n",
              " 'Sınıfı İş Güvenliği Uzmanı',\n",
              " 'Tekstil Mühendisi-Malatya',\n",
              " 'Tekstil Mühendisi Yeni Mezun',\n",
              " 'Örme Üretim Yöneticisi',\n",
              " 'Kumaş Ür-Ge Uzmanı',\n",
              " 'Unity Mobil Oyun Geliştirici',\n",
              " 'Senior Software Engineer Java',\n",
              " 'Software Development Engineer',\n",
              " 'Yetiştirilmek Üzere Web-Mobil Programlama Uzmanı',\n",
              " 'Orta Seviye Yazılım Geliştirme Uzmanı',\n",
              " 'Embedded IoT Software Engineer (Project Based)',\n",
              " 'PHP Developer',\n",
              " 'Flight Control Software Developer',\n",
              " 'Java Yazılım Geliştirme Uzmanı',\n",
              " 'Cloud Software Engineer',\n",
              " 'Kıdemli Gömülü Yazılım Mühendisi',\n",
              " 'Data Scientist-Remote',\n",
              " 'Kıdemli Yazılım Geliştirme Uzmanı',\n",
              " 'Kıdemli PHP (Back End) Geliştiricisi',\n",
              " 'Frontend Developer (React)',\n",
              " 'Senior Backend Developer Istanbul',\n",
              " 'Java Yazılım Uzmanı',\n",
              " 'Frontend Developer(Reactjs)',\n",
              " 'Senior Mobile Developer',\n",
              " 'Yazılım Geliştirme Uzmanı PHP Nodejs',\n",
              " 'Yazılım Geliştirme Uzmanı-Remote',\n",
              " 'Otomasyon Mühendisi',\n",
              " 'AR-GE Donanım Mühendisi',\n",
              " 'Elektrik İşleri Şefi',\n",
              " 'Elektrik Elektronik Sistem Mühendisi',\n",
              " 'Elektrik Tasarım Kıdemli Uzmanı',\n",
              " 'Proje Elektrik Mühendisi',\n",
              " 'Termik Santral Elektrik Bakım Mühendisi',\n",
              " 'Elektronik Üretim ve Planlama Sorumlusu',\n",
              " 'Kıdemli Elektronik Tasarım Mühendisi',\n",
              " 'Test Mühendisi',\n",
              " 'Operations Deployment Engineer',\n",
              " 'Elektrik Elektronik Öğretmeni-Mühendisi',\n",
              " 'Uluslararası Elektrik Kontrol Mühendisi',\n",
              " 'AR-GE Otomasyon Mühendisi',\n",
              " 'Elektronik Kalite Test ve Dokümantasyon Mühendisi',\n",
              " 'Elektrik ve Otomasyon Bakım Şefi',\n",
              " 'Elektrik ve Enstrümantasyon Mühendisi',\n",
              " 'Elektrik Elektrik Elektronik Mühendisi',\n",
              " 'Fpga Tasarım Mühendisi',\n",
              " 'Kıdemli Donanım Tasarım Mühendisi',\n",
              " 'Test ve Devreye Alma Elektrik Mühendisi',\n",
              " 'Üretim Sorumlusu',\n",
              " 'Üretim Planlama Uzmanı',\n",
              " 'Malzeme İhtiyaç Planlama Mühendisi',\n",
              " 'Kapasite Planlama Mühendisi',\n",
              " 'Planlama Uzman Yardımcısı',\n",
              " 'Planlama ve Metod Mühendisi',\n",
              " 'Üretim Planlama Takım Lideri',\n",
              " 'Endüstri Mühendisi Üretim ve Planlama Mühendisi',\n",
              " 'Lojistik ve Sevkiyat Planlama Mühendisi',\n",
              " 'Üretim ve Malzeme Planlama Mühendisi',\n",
              " 'ERP Destek Sorumlusu',\n",
              " 'Süreç Analisti',\n",
              " 'İnşaat Mühendisi (Çelik)',\n",
              " 'İnşaat Mühendisi (Sap2000 Eğitmeni)',\n",
              " 'Gaziantep/Gayrimenkul Değerleme Uzmanı',\n",
              " 'Teknik Ofis Müdürü',\n",
              " 'Prefabrik Beton Segment Üretim Tesisi İşletme Şefi',\n",
              " 'Şantiye Sorumlusu']"
            ]
          },
          "metadata": {},
          "execution_count": 10
        }
      ]
    },
    {
      "cell_type": "code",
      "metadata": {
        "colab": {
          "base_uri": "https://localhost:8080/",
          "height": 424
        },
        "id": "ltmeh9i4Jr0N",
        "outputId": "6e372b5f-21dd-4eb4-cde4-76b38b06fc11"
      },
      "source": [
        "df = df[df['title'].str.len()>1]\n",
        "df['title'] = [x.lower() for x in df['title']]\n",
        "df['title']=[removeStopWords(x) for x in df['title']]\n",
        "df['title']= [removeOneLetters(x) for x in df['title']]\n",
        "df.head(100)"
      ],
      "execution_count": null,
      "outputs": [
        {
          "output_type": "execute_result",
          "data": {
            "text/html": [
              "<div>\n",
              "<style scoped>\n",
              "    .dataframe tbody tr th:only-of-type {\n",
              "        vertical-align: middle;\n",
              "    }\n",
              "\n",
              "    .dataframe tbody tr th {\n",
              "        vertical-align: top;\n",
              "    }\n",
              "\n",
              "    .dataframe thead th {\n",
              "        text-align: right;\n",
              "    }\n",
              "</style>\n",
              "<table border=\"1\" class=\"dataframe\">\n",
              "  <thead>\n",
              "    <tr style=\"text-align: right;\">\n",
              "      <th></th>\n",
              "      <th>title</th>\n",
              "      <th>isco08</th>\n",
              "      <th>encoded_categories</th>\n",
              "    </tr>\n",
              "  </thead>\n",
              "  <tbody>\n",
              "    <tr>\n",
              "      <th>0</th>\n",
              "      <td>şantiye şefi</td>\n",
              "      <td>2142</td>\n",
              "      <td>1</td>\n",
              "    </tr>\n",
              "    <tr>\n",
              "      <th>1</th>\n",
              "      <td>saha mühendisi</td>\n",
              "      <td>2142</td>\n",
              "      <td>1</td>\n",
              "    </tr>\n",
              "    <tr>\n",
              "      <th>2</th>\n",
              "      <td>i̇nşaat mühendisi</td>\n",
              "      <td>2142</td>\n",
              "      <td>1</td>\n",
              "    </tr>\n",
              "    <tr>\n",
              "      <th>5</th>\n",
              "      <td>teknik ofis mühendisi</td>\n",
              "      <td>2142</td>\n",
              "      <td>1</td>\n",
              "    </tr>\n",
              "    <tr>\n",
              "      <th>7</th>\n",
              "      <td>i̇nce i̇şler şefi</td>\n",
              "      <td>2142</td>\n",
              "      <td>1</td>\n",
              "    </tr>\n",
              "    <tr>\n",
              "      <th>...</th>\n",
              "      <td>...</td>\n",
              "      <td>...</td>\n",
              "      <td>...</td>\n",
              "    </tr>\n",
              "    <tr>\n",
              "      <th>151</th>\n",
              "      <td>ios developer</td>\n",
              "      <td>2513</td>\n",
              "      <td>9</td>\n",
              "    </tr>\n",
              "    <tr>\n",
              "      <th>155</th>\n",
              "      <td>veri tabanı uzmanı</td>\n",
              "      <td>2521</td>\n",
              "      <td>10</td>\n",
              "    </tr>\n",
              "    <tr>\n",
              "      <th>156</th>\n",
              "      <td>yazılım geliştirme mühendisi</td>\n",
              "      <td>2512</td>\n",
              "      <td>8</td>\n",
              "    </tr>\n",
              "    <tr>\n",
              "      <th>157</th>\n",
              "      <td>software engineer integration team</td>\n",
              "      <td>2512</td>\n",
              "      <td>8</td>\n",
              "    </tr>\n",
              "    <tr>\n",
              "      <th>160</th>\n",
              "      <td>asp.net yazılım uzmanı</td>\n",
              "      <td>2513</td>\n",
              "      <td>9</td>\n",
              "    </tr>\n",
              "  </tbody>\n",
              "</table>\n",
              "<p>100 rows × 3 columns</p>\n",
              "</div>"
            ],
            "text/plain": [
              "                                  title  isco08  encoded_categories\n",
              "0                          şantiye şefi    2142                   1\n",
              "1                        saha mühendisi    2142                   1\n",
              "2                     i̇nşaat mühendisi    2142                   1\n",
              "5                 teknik ofis mühendisi    2142                   1\n",
              "7                     i̇nce i̇şler şefi    2142                   1\n",
              "..                                  ...     ...                 ...\n",
              "151                       ios developer    2513                   9\n",
              "155                  veri tabanı uzmanı    2521                  10\n",
              "156        yazılım geliştirme mühendisi    2512                   8\n",
              "157  software engineer integration team    2512                   8\n",
              "160              asp.net yazılım uzmanı    2513                   9\n",
              "\n",
              "[100 rows x 3 columns]"
            ]
          },
          "metadata": {},
          "execution_count": 13
        }
      ]
    },
    {
      "cell_type": "code",
      "metadata": {
        "colab": {
          "base_uri": "https://localhost:8080/"
        },
        "id": "MhlW0N6QJr0O",
        "outputId": "87bf84cc-e499-45c9-dd17-9c8438b1c010"
      },
      "source": [
        "df.count()"
      ],
      "execution_count": null,
      "outputs": [
        {
          "output_type": "execute_result",
          "data": {
            "text/plain": [
              "title                 384\n",
              "isco08                384\n",
              "encoded_categories    384\n",
              "dtype: int64"
            ]
          },
          "metadata": {},
          "execution_count": 14
        }
      ]
    },
    {
      "cell_type": "code",
      "metadata": {
        "id": "kUOCh-z-Jr0O"
      },
      "source": [
        "X = df['urun_adi'].astype(str)\n",
        "Y = df['coicop']\n",
        "le = LabelEncoder()\n",
        "Y = le.fit_transform(Y)\n",
        "Y = Y.reshape(-1,1)"
      ],
      "execution_count": null,
      "outputs": []
    },
    {
      "cell_type": "code",
      "metadata": {
        "id": "uQGJ0AUMJr0O"
      },
      "source": [
        "#X_train,X_test,Y_train,Y_test = train_test_split(X,Y,test_size=0.05,random_state=42)\n",
        "max_len = 20\n",
        "from sklearn.model_selection import train_test_split\n",
        "X_train,X_test,Y_train,Y_test = train_test_split(df.title, df.encoded_categories, random_state=42, stratify=df.encoded_categories,test_size=0.2)   "
      ],
      "execution_count": null,
      "outputs": []
    },
    {
      "cell_type": "code",
      "metadata": {
        "id": "OYaOC_TEJr0P"
      },
      "source": [
        "max_words = 4500\n",
        "max_len = 200\n",
        "tok = Tokenizer(num_words=max_words)\n",
        "tok.fit_on_texts(X_train)\n",
        "word_index = tok.word_index\n",
        "sequences = tok.texts_to_sequences(X_train)\n",
        "sequences_matrix = sequence.pad_sequences(sequences,maxlen=max_len)"
      ],
      "execution_count": null,
      "outputs": []
    },
    {
      "cell_type": "code",
      "metadata": {
        "colab": {
          "base_uri": "https://localhost:8080/"
        },
        "id": "6DRVewItJr0P",
        "outputId": "e3fd3bdf-8567-495f-c198-f33fa06e8854"
      },
      "source": [
        "word_index"
      ],
      "execution_count": null,
      "outputs": [
        {
          "output_type": "execute_result",
          "data": {
            "text/plain": [
              "{'1': 237,\n",
              " '5': 236,\n",
              " 'a': 238,\n",
              " 'adana': 179,\n",
              " 'akdeniz': 155,\n",
              " 'akım': 78,\n",
              " 'akışkanlar': 177,\n",
              " 'alanında': 169,\n",
              " 'alma': 112,\n",
              " 'altyapı': 193,\n",
              " 'analisti': 68,\n",
              " 'analiz': 58,\n",
              " 'android': 82,\n",
              " 'ankara': 41,\n",
              " 'antalya': 93,\n",
              " 'ar': 33,\n",
              " 'araştırma': 84,\n",
              " 'arge': 36,\n",
              " 'back': 227,\n",
              " 'backend': 45,\n",
              " 'bakım': 10,\n",
              " 'balıkesir': 210,\n",
              " 'bandırma': 140,\n",
              " 'based': 246,\n",
              " 'baymina': 181,\n",
              " 'beton': 263,\n",
              " 'bilen': 153,\n",
              " 'bilgisayar': 170,\n",
              " 'birim': 280,\n",
              " 'biyomedikal': 211,\n",
              " 'borulama': 232,\n",
              " 'boyahane': 172,\n",
              " 'bölge': 156,\n",
              " 'cad': 252,\n",
              " 'cam': 253,\n",
              " 'cloud': 102,\n",
              " 'control': 242,\n",
              " 'csharp': 116,\n",
              " 'data': 60,\n",
              " 'deployment': 221,\n",
              " 'destek': 80,\n",
              " 'developer': 4,\n",
              " 'development': 115,\n",
              " 'devops': 90,\n",
              " 'devreye': 111,\n",
              " 'değerleme': 29,\n",
              " 'değerlendirmesi': 131,\n",
              " 'dinamiği': 178,\n",
              " 'dizayn': 120,\n",
              " 'dokümantasyon': 196,\n",
              " 'donanım': 92,\n",
              " 'donatım': 256,\n",
              " 'e': 157,\n",
              " 'eba': 225,\n",
              " 'elektrik': 3,\n",
              " 'elektronik': 14,\n",
              " 'elemanı': 209,\n",
              " 'embedded': 122,\n",
              " 'end': 52,\n",
              " 'endüstri': 83,\n",
              " 'enerji': 194,\n",
              " 'engineer': 13,\n",
              " 'enstrümantasyon': 87,\n",
              " 'entegre': 281,\n",
              " 'environment': 141,\n",
              " 'environmental': 139,\n",
              " 'erp': 79,\n",
              " 'erzurum': 166,\n",
              " 'etki': 130,\n",
              " 'expert': 284,\n",
              " 'farmasötik': 199,\n",
              " 'flight': 241,\n",
              " 'for': 218,\n",
              " 'formülasyon': 124,\n",
              " 'fpga': 205,\n",
              " 'front': 65,\n",
              " 'frontend': 44,\n",
              " 'g': 202,\n",
              " 'gayrimenkul': 28,\n",
              " 'gaziantep': 260,\n",
              " 'ge': 25,\n",
              " 'geliştirici': 53,\n",
              " 'geliştiricisi': 285,\n",
              " 'geliştirme': 7,\n",
              " 'grup': 213,\n",
              " 'gömülü': 43,\n",
              " 'gövde': 261,\n",
              " 'güvenlik': 282,\n",
              " 'güvenliği': 56,\n",
              " 'güç': 240,\n",
              " 'haberleşme': 279,\n",
              " 'hakediş': 190,\n",
              " 'harp': 271,\n",
              " 'hesap': 148,\n",
              " 'hesaplamalı': 176,\n",
              " 'hidroelektrik': 254,\n",
              " 'home': 189,\n",
              " 'integration': 251,\n",
              " 'ios': 62,\n",
              " 'iot': 244,\n",
              " 'istanbul': 247,\n",
              " 'i̇hale': 133,\n",
              " 'i̇htiyaç': 234,\n",
              " 'i̇kmal': 215,\n",
              " 'i̇li': 167,\n",
              " 'i̇malat': 146,\n",
              " 'i̇nce': 249,\n",
              " 'i̇nşaat': 61,\n",
              " 'i̇os': 217,\n",
              " 'i̇sg': 182,\n",
              " 'i̇stanbul': 222,\n",
              " 'i̇yileştirme': 107,\n",
              " 'i̇zmir': 224,\n",
              " 'i̇ş': 46,\n",
              " 'i̇şlemleri': 88,\n",
              " 'i̇şler': 250,\n",
              " 'i̇şletme': 266,\n",
              " 'i̇şletmeler': 198,\n",
              " 'java': 38,\n",
              " 'jr': 228,\n",
              " 'js': 143,\n",
              " 'junior': 98,\n",
              " 'kablosuz': 278,\n",
              " 'kadrolu': 99,\n",
              " 'kalite': 27,\n",
              " 'kalıp': 191,\n",
              " 'kapasite': 243,\n",
              " 'kaynak': 248,\n",
              " 'kayseri': 101,\n",
              " 'kimya': 35,\n",
              " 'kimyager': 91,\n",
              " 'kimyasal': 134,\n",
              " 'kocaeli': 208,\n",
              " 'konfeksiyon': 127,\n",
              " 'kontrol': 18,\n",
              " 'koordinatörü': 151,\n",
              " 'koroplast': 154,\n",
              " 'kumaş': 59,\n",
              " 'kıdemli': 22,\n",
              " 'labaratuvar': 162,\n",
              " 'laboratuvar': 85,\n",
              " 'laboratuvarı': 173,\n",
              " 'laravel': 144,\n",
              " 'lideri': 108,\n",
              " 'lojistik': 114,\n",
              " 'makine': 30,\n",
              " 'malatya': 258,\n",
              " 'maliyet': 273,\n",
              " 'malzeme': 123,\n",
              " 'manisa': 223,\n",
              " 'mekanik': 20,\n",
              " 'metod': 97,\n",
              " 'metot': 168,\n",
              " 'mezun': 64,\n",
              " 'mobil': 42,\n",
              " 'mobile': 149,\n",
              " 'montaj': 71,\n",
              " 'mro': 150,\n",
              " 'muhasebe': 100,\n",
              " 'müdür': 117,\n",
              " 'müdürü': 32,\n",
              " 'mühendis': 73,\n",
              " 'mühendisi': 1,\n",
              " 'mühendisleri': 126,\n",
              " 'mühendisliği': 147,\n",
              " 'net': 81,\n",
              " 'node': 142,\n",
              " 'office': 219,\n",
              " 'ofis': 26,\n",
              " 'onarım': 55,\n",
              " 'operations': 103,\n",
              " 'organik': 275,\n",
              " 'orman': 137,\n",
              " 'orta': 174,\n",
              " 'otomasyon': 19,\n",
              " 'oyun': 268,\n",
              " 'periyodik': 163,\n",
              " 'personeli': 239,\n",
              " 'php': 57,\n",
              " 'planlama': 9,\n",
              " 'prefabrik': 262,\n",
              " 'programlama': 128,\n",
              " 'proje': 16,\n",
              " 'project': 245,\n",
              " 'proses': 165,\n",
              " 'prosesler': 135,\n",
              " 'raporlama': 106,\n",
              " 'react': 66,\n",
              " 'reactjs': 109,\n",
              " 'remote': 54,\n",
              " 'revit': 201,\n",
              " 'rf': 230,\n",
              " 'rusça': 152,\n",
              " 'saha': 74,\n",
              " 'sanat': 206,\n",
              " 'sancaktepe': 121,\n",
              " 'santral': 125,\n",
              " 'satış': 72,\n",
              " 'scientist': 76,\n",
              " 'segment': 264,\n",
              " 'senior': 23,\n",
              " 'servis': 105,\n",
              " 'seviye': 175,\n",
              " 'sevkiyat': 187,\n",
              " 'sistem': 67,\n",
              " 'sistemleri': 48,\n",
              " 'sistemlerinden': 95,\n",
              " 'software': 12,\n",
              " 'sorumlu': 96,\n",
              " 'sorumlusu': 17,\n",
              " 'specialist': 161,\n",
              " 'sr': 113,\n",
              " 'statik': 272,\n",
              " 'statiker': 270,\n",
              " 'steril': 212,\n",
              " 'stres': 233,\n",
              " 'supervizörü': 276,\n",
              " 'sözleşmeli': 277,\n",
              " 'süpervizörü': 180,\n",
              " 'sürekli': 216,\n",
              " 'süreç': 226,\n",
              " 'sınıfı': 94,\n",
              " 'tabanı': 269,\n",
              " 'tahakkuk': 171,\n",
              " 'takım': 118,\n",
              " 'talaşlı': 145,\n",
              " 'tasarım': 8,\n",
              " 'team': 104,\n",
              " 'tedarik': 183,\n",
              " 'teklif': 110,\n",
              " 'teknik': 21,\n",
              " 'teknoloji': 200,\n",
              " 'teknoloğu': 188,\n",
              " 'tekstil': 31,\n",
              " 'termik': 274,\n",
              " 'tesisat': 69,\n",
              " 'tesisi': 265,\n",
              " 'test': 47,\n",
              " 'ticaret': 158,\n",
              " 'trim': 132,\n",
              " 'ui': 255,\n",
              " 'unity': 267,\n",
              " 'uygulama': 75,\n",
              " 'uzman': 34,\n",
              " 'uzmanı': 2,\n",
              " 'uçak': 159,\n",
              " 'vardiya': 259,\n",
              " 'vasıflarında': 204,\n",
              " 've': 6,\n",
              " 'veri': 119,\n",
              " 'veya': 136,\n",
              " 'web': 24,\n",
              " 'wordpress': 220,\n",
              " 'yalın': 164,\n",
              " 'yapıları': 207,\n",
              " 'yard': 203,\n",
              " 'yardımcı': 197,\n",
              " 'yardımcısı': 39,\n",
              " 'yazılım': 5,\n",
              " 'yazılımı': 160,\n",
              " 'yeni': 63,\n",
              " 'yeterlik': 235,\n",
              " 'yetiştirilmek': 50,\n",
              " 'yetkilisi': 89,\n",
              " 'yurtdışı': 229,\n",
              " 'yönetici': 186,\n",
              " 'yöneticisi': 49,\n",
              " 'yönetimi': 195,\n",
              " 'yüksek': 192,\n",
              " 'zayıf': 77,\n",
              " 'zinciri': 184,\n",
              " 'zımpara': 214,\n",
              " 'çed': 86,\n",
              " 'çelik': 70,\n",
              " 'çevre': 37,\n",
              " 'çevresel': 129,\n",
              " 'çözümleri': 283,\n",
              " 'ödeme': 138,\n",
              " 'örme': 231,\n",
              " 'öğretmeni': 185,\n",
              " 'ür': 257,\n",
              " 'üretim': 15,\n",
              " 'üzere': 51,\n",
              " 'şantiye': 40,\n",
              " 'şefi': 11}"
            ]
          },
          "metadata": {},
          "execution_count": 18
        }
      ]
    },
    {
      "cell_type": "code",
      "metadata": {
        "id": "weZLGUG3Jr0P"
      },
      "source": [
        "def RNN():\n",
        "    inputs = Input(name='inputs',shape=[max_len])\n",
        "    layer = Embedding(max_words,50,input_length=max_len)(inputs)\n",
        "    layer = LSTM(128)(layer)\n",
        "    layer = Dense(256,name='FC1')(layer)\n",
        "    layer = Activation('relu')(layer)\n",
        "    layer = Dropout(0.2)(layer)\n",
        "    layer = Dense(12,name='out_layer')(layer)\n",
        "    layer = Activation('softmax')(layer)\n",
        "    model = Model(inputs=inputs,outputs=layer)\n",
        "    return model"
      ],
      "execution_count": null,
      "outputs": []
    },
    {
      "cell_type": "code",
      "metadata": {
        "scrolled": true,
        "colab": {
          "base_uri": "https://localhost:8080/"
        },
        "id": "R81Cpx4MJr0P",
        "outputId": "0f1e92aa-45bd-466f-e6d1-89d1fb32006e"
      },
      "source": [
        "import tensorflow as tf\n",
        "model = RNN()\n",
        "model.summary()\n",
        "model.compile(loss='sparse_categorical_crossentropy',optimizer='adam',metrics=['accuracy'])"
      ],
      "execution_count": null,
      "outputs": [
        {
          "output_type": "stream",
          "name": "stdout",
          "text": [
            "Model: \"model\"\n",
            "_________________________________________________________________\n",
            " Layer (type)                Output Shape              Param #   \n",
            "=================================================================\n",
            " inputs (InputLayer)         [(None, 200)]             0         \n",
            "                                                                 \n",
            " embedding (Embedding)       (None, 200, 50)           225000    \n",
            "                                                                 \n",
            " lstm (LSTM)                 (None, 128)               91648     \n",
            "                                                                 \n",
            " FC1 (Dense)                 (None, 256)               33024     \n",
            "                                                                 \n",
            " activation (Activation)     (None, 256)               0         \n",
            "                                                                 \n",
            " dropout (Dropout)           (None, 256)               0         \n",
            "                                                                 \n",
            " out_layer (Dense)           (None, 12)                3084      \n",
            "                                                                 \n",
            " activation_1 (Activation)   (None, 12)                0         \n",
            "                                                                 \n",
            "=================================================================\n",
            "Total params: 352,756\n",
            "Trainable params: 352,756\n",
            "Non-trainable params: 0\n",
            "_________________________________________________________________\n"
          ]
        }
      ]
    },
    {
      "cell_type": "code",
      "metadata": {
        "colab": {
          "base_uri": "https://localhost:8080/"
        },
        "id": "YGG3QurpJr0P",
        "outputId": "78e2da85-ff77-497c-ab87-7f6f8c3cbd70"
      },
      "source": [
        "'''history = model.fit(sequences_matrix,Y_train,batch_size=128,epochs=20,\n",
        "          validation_split=0.1,callbacks=[EarlyStopping(monitor='val_accuracy',min_delta=0.0001)])'''\n",
        "history = model.fit(sequences_matrix,Y_train,batch_size=128,epochs=20,\n",
        "          validation_split=0.1)"
      ],
      "execution_count": null,
      "outputs": [
        {
          "output_type": "stream",
          "name": "stdout",
          "text": [
            "Epoch 1/20\n",
            "3/3 [==============================] - 5s 737ms/step - loss: 2.4817 - accuracy: 0.1123 - val_loss: 2.4705 - val_accuracy: 0.2258\n",
            "Epoch 2/20\n",
            "3/3 [==============================] - 2s 477ms/step - loss: 2.4619 - accuracy: 0.2500 - val_loss: 2.4444 - val_accuracy: 0.1935\n",
            "Epoch 3/20\n",
            "3/3 [==============================] - 2s 456ms/step - loss: 2.4209 - accuracy: 0.1957 - val_loss: 2.3766 - val_accuracy: 0.0968\n",
            "Epoch 4/20\n",
            "3/3 [==============================] - 2s 460ms/step - loss: 2.3566 - accuracy: 0.1630 - val_loss: 2.3891 - val_accuracy: 0.0968\n",
            "Epoch 5/20\n",
            "3/3 [==============================] - 2s 458ms/step - loss: 2.3125 - accuracy: 0.1920 - val_loss: 2.3811 - val_accuracy: 0.0645\n",
            "Epoch 6/20\n",
            "3/3 [==============================] - 2s 458ms/step - loss: 2.3165 - accuracy: 0.2029 - val_loss: 2.3918 - val_accuracy: 0.0645\n",
            "Epoch 7/20\n",
            "3/3 [==============================] - 2s 468ms/step - loss: 2.3227 - accuracy: 0.1630 - val_loss: 2.4270 - val_accuracy: 0.0645\n",
            "Epoch 8/20\n",
            "3/3 [==============================] - 2s 461ms/step - loss: 2.3218 - accuracy: 0.1594 - val_loss: 2.4144 - val_accuracy: 0.0645\n",
            "Epoch 9/20\n",
            "3/3 [==============================] - 2s 466ms/step - loss: 2.3020 - accuracy: 0.1558 - val_loss: 2.3837 - val_accuracy: 0.1290\n",
            "Epoch 10/20\n",
            "3/3 [==============================] - 2s 466ms/step - loss: 2.2818 - accuracy: 0.2101 - val_loss: 2.3608 - val_accuracy: 0.0968\n",
            "Epoch 11/20\n",
            "3/3 [==============================] - 2s 462ms/step - loss: 2.2758 - accuracy: 0.1812 - val_loss: 2.3509 - val_accuracy: 0.0968\n",
            "Epoch 12/20\n",
            "3/3 [==============================] - 2s 460ms/step - loss: 2.2695 - accuracy: 0.1667 - val_loss: 2.3328 - val_accuracy: 0.0968\n",
            "Epoch 13/20\n",
            "3/3 [==============================] - 2s 460ms/step - loss: 2.2470 - accuracy: 0.2355 - val_loss: 2.3144 - val_accuracy: 0.1613\n",
            "Epoch 14/20\n",
            "3/3 [==============================] - 2s 469ms/step - loss: 2.2287 - accuracy: 0.2826 - val_loss: 2.3144 - val_accuracy: 0.0968\n",
            "Epoch 15/20\n",
            "3/3 [==============================] - 2s 463ms/step - loss: 2.2048 - accuracy: 0.2899 - val_loss: 2.3031 - val_accuracy: 0.1613\n",
            "Epoch 16/20\n",
            "3/3 [==============================] - 2s 453ms/step - loss: 2.1751 - accuracy: 0.2935 - val_loss: 2.2693 - val_accuracy: 0.1613\n",
            "Epoch 17/20\n",
            "3/3 [==============================] - 2s 460ms/step - loss: 2.1336 - accuracy: 0.3043 - val_loss: 2.2296 - val_accuracy: 0.0968\n",
            "Epoch 18/20\n",
            "3/3 [==============================] - 2s 465ms/step - loss: 2.0764 - accuracy: 0.3116 - val_loss: 2.1731 - val_accuracy: 0.1935\n",
            "Epoch 19/20\n",
            "3/3 [==============================] - 2s 455ms/step - loss: 2.0081 - accuracy: 0.3551 - val_loss: 2.1207 - val_accuracy: 0.2903\n",
            "Epoch 20/20\n",
            "3/3 [==============================] - 2s 468ms/step - loss: 1.9280 - accuracy: 0.3080 - val_loss: 2.0788 - val_accuracy: 0.2258\n"
          ]
        }
      ]
    },
    {
      "cell_type": "code",
      "metadata": {
        "colab": {
          "base_uri": "https://localhost:8080/"
        },
        "id": "pgmQerCEJr0Q",
        "outputId": "02aa993a-1973-4505-d137-b83fa0c0d63e"
      },
      "source": [
        "test_sequences = tok.texts_to_sequences(X_test)\n",
        "test_sequences_matrix = sequence.pad_sequences(test_sequences,maxlen=max_len)\n",
        "model.evaluate(test_sequences_matrix,Y_test)"
      ],
      "execution_count": null,
      "outputs": [
        {
          "output_type": "stream",
          "name": "stdout",
          "text": [
            "3/3 [==============================] - 0s 56ms/step - loss: 1.9201 - accuracy: 0.3636\n"
          ]
        },
        {
          "output_type": "execute_result",
          "data": {
            "text/plain": [
              "[1.9200526475906372, 0.3636363744735718]"
            ]
          },
          "metadata": {},
          "execution_count": 23
        }
      ]
    },
    {
      "cell_type": "code",
      "metadata": {
        "id": "Qu4ixOCXJr0Q"
      },
      "source": [
        "X_train"
      ],
      "execution_count": null,
      "outputs": []
    },
    {
      "cell_type": "code",
      "metadata": {
        "id": "62G7bmr2Jr0Q"
      },
      "source": [
        "tok.fit_on_texts(X_test)\n",
        "sequences = tok.texts_to_sequences(X_test)\n",
        "sequences_matrix = sequence.pad_sequences(sequences,maxlen=max_len)"
      ],
      "execution_count": null,
      "outputs": []
    },
    {
      "cell_type": "code",
      "metadata": {
        "id": "uNQc-Ot2Jr0Q"
      },
      "source": [
        "y_predicted = model.predict(sequences_matrix)"
      ],
      "execution_count": null,
      "outputs": []
    },
    {
      "cell_type": "code",
      "metadata": {
        "id": "uBDnFfllJr0Q"
      },
      "source": [
        "a = [np.argmax(y_pred) for y_pred in y_predicted]"
      ],
      "execution_count": null,
      "outputs": []
    },
    {
      "cell_type": "code",
      "metadata": {
        "colab": {
          "base_uri": "https://localhost:8080/",
          "height": 545
        },
        "id": "Xp-LRPwkJr0Q",
        "outputId": "022b3784-92d9-4fd2-ce75-85d2dd3215fe"
      },
      "source": [
        "import matplotlib.pyplot as plt\n",
        "acc=history.history['accuracy']\n",
        "val_acc=history.history['val_accuracy']\n",
        "loss=history.history['loss']\n",
        "val_loss=history.history['val_loss']\n",
        "\n",
        "epochs = range(len(acc))\n",
        "\n",
        "plt.plot(epochs, acc, 'r', label='Training accuracy')\n",
        "plt.plot(epochs, val_acc, 'b', label='Validation accuracy')\n",
        "plt.title('Training and validation accuracy')\n",
        "plt.legend()\n",
        "plt.figure()\n",
        "\n",
        "plt.plot(epochs, loss, 'r', label='Training Loss')\n",
        "plt.plot(epochs, val_loss, 'b', label='Validation Loss')\n",
        "plt.title('Training and validation loss')\n",
        "plt.legend()\n",
        "\n",
        "plt.show()"
      ],
      "execution_count": null,
      "outputs": [
        {
          "output_type": "display_data",
          "data": {
            "image/png": "[encoded data removed]",
            "text/plain": [
              "<Figure size 432x288 with 1 Axes>"
            ]
          },
          "metadata": {
            "needs_background": "light"
          }
        },
        {
          "output_type": "display_data",
          "data": {
            "image/png": "[encoded data removed]",
            "text/plain": [
              "<Figure size 432x288 with 1 Axes>"
            ]
          },
          "metadata": {
            "needs_background": "light"
          }
        }
      ]
    },
    {
      "cell_type": "code",
      "metadata": {
        "id": "EX7HleKxJr0Q"
      },
      "source": [
        "np.argmax(Y_test)"
      ],
      "execution_count": null,
      "outputs": []
    },
    {
      "cell_type": "code",
      "metadata": {
        "id": "CKuU-YRpJr0Q"
      },
      "source": [
        "predicted_coicops = le.inverse_transform(a)"
      ],
      "execution_count": null,
      "outputs": []
    },
    {
      "cell_type": "code",
      "metadata": {
        "id": "WRI5dHjtJr0R"
      },
      "source": [
        "predicted_coicops"
      ],
      "execution_count": null,
      "outputs": []
    },
    {
      "cell_type": "code",
      "metadata": {
        "id": "7jYxNKNOJr0R"
      },
      "source": [
        "test_sequences = tok.texts_to_sequences(X_test)\n",
        "test_sequences_matrix = sequence.pad_sequences(test_sequences,maxlen=max_len)\n",
        "accr = model.evaluate(test_sequences_matrix,Y_test)\n",
        "print('Test set\\n  Loss: {:0.3f}\\n  Accuracy: {:0.3f}'.format(accr[0],accr[1]))"
      ],
      "execution_count": null,
      "outputs": []
    },
    {
      "cell_type": "code",
      "metadata": {
        "id": "I6sN3pjbJr0R"
      },
      "source": [
        "import sklearn\n",
        "asa = sklearn.metrics.confusion_matrix(Y_test, a)"
      ],
      "execution_count": null,
      "outputs": []
    },
    {
      "cell_type": "code",
      "metadata": {
        "id": "CwIJPN9-Jr0R"
      },
      "source": [
        "from numpy import savetxt\n",
        "savetxt(\"D:\\\\asa.txt\",asa,delimiter=',')"
      ],
      "execution_count": null,
      "outputs": []
    },
    {
      "cell_type": "code",
      "metadata": {
        "id": "uOodpGaJJr0R"
      },
      "source": [
        "type(a)"
      ],
      "execution_count": null,
      "outputs": []
    },
    {
      "cell_type": "code",
      "metadata": {
        "id": "qlxJYdegJr0R"
      },
      "source": [
        "Y_train"
      ],
      "execution_count": null,
      "outputs": []
    },
    {
      "cell_type": "code",
      "metadata": {
        "id": "L8ZrCc7gJr0R"
      },
      "source": [
        "le.inverse_transform(Y_test)"
      ],
      "execution_count": null,
      "outputs": []
    },
    {
      "cell_type": "code",
      "metadata": {
        "id": "XVH4M8uvJr0R"
      },
      "source": [
        "X_test"
      ],
      "execution_count": null,
      "outputs": []
    },
    {
      "cell_type": "code",
      "metadata": {
        "id": "bZ6LFqFRJr0R"
      },
      "source": [
        "test_sequences = tok.texts_to_sequences(X_test)\n",
        "test_sequences_matrix = sequence.pad_sequences(test_sequences,maxlen=max_len)\n",
        "\n",
        "accr = model.evaluate(test_sequences_matrix,Y_test)\n"
      ],
      "execution_count": null,
      "outputs": []
    },
    {
      "cell_type": "code",
      "metadata": {
        "id": "60L55w2XJr0R"
      },
      "source": [
        "print('Test set\\n  Loss: {:0.3f}\\n  Accuracy: {:0.3f}'.format(accr[0],accr[1]))"
      ],
      "execution_count": null,
      "outputs": []
    },
    {
      "cell_type": "code",
      "metadata": {
        "id": "MgOi7cWvJr0R"
      },
      "source": [
        "Y_predicted = model.predict(test_sequences_matrix)\n",
        "Y_pred = [np.argmax(a) for a in Y_predicted]\n",
        "\n",
        "\n",
        "Y_test_list = sum(Y_test.tolist(),[])\n"
      ],
      "execution_count": null,
      "outputs": []
    },
    {
      "cell_type": "code",
      "metadata": {
        "id": "ArdWzAshJr0R"
      },
      "source": [
        "Y_test_list"
      ],
      "execution_count": null,
      "outputs": []
    },
    {
      "cell_type": "code",
      "metadata": {
        "id": "lDclcAi1Jr0R"
      },
      "source": [
        "Y_pred"
      ],
      "execution_count": null,
      "outputs": []
    },
    {
      "cell_type": "code",
      "metadata": {
        "id": "zChRStCYJr0S"
      },
      "source": [
        "le.inverse_transform(Y_pred)"
      ],
      "execution_count": null,
      "outputs": []
    },
    {
      "cell_type": "code",
      "metadata": {
        "id": "52pRAPTOJr0S"
      },
      "source": [
        "le.inverse_transform(Y_test_list)"
      ],
      "execution_count": null,
      "outputs": []
    },
    {
      "cell_type": "code",
      "metadata": {
        "id": "DO1HIF1GJr0S"
      },
      "source": [
        "X_test"
      ],
      "execution_count": null,
      "outputs": []
    },
    {
      "cell_type": "code",
      "metadata": {
        "id": "DU8z0CxgJr0S"
      },
      "source": [
        "X_test_2=['eker yoğurt']"
      ],
      "execution_count": null,
      "outputs": []
    },
    {
      "cell_type": "code",
      "metadata": {
        "id": "HLxzT3YtJr0S"
      },
      "source": [
        "test_sequences2 = tok.texts_to_sequences(X_test_2)\n",
        "test_sequences_matrix2 = sequence.pad_sequences(test_sequences2,maxlen=max_len)"
      ],
      "execution_count": null,
      "outputs": []
    },
    {
      "cell_type": "code",
      "metadata": {
        "id": "NiK4JanAJr0S"
      },
      "source": [
        "Y_predicted2 = model.predict(test_sequences_matrix2)"
      ],
      "execution_count": null,
      "outputs": []
    },
    {
      "cell_type": "code",
      "metadata": {
        "id": "yBy6SnFIJr0S"
      },
      "source": [
        "Y_predicted2"
      ],
      "execution_count": null,
      "outputs": []
    },
    {
      "cell_type": "code",
      "metadata": {
        "id": "QJrlanJqJr0S"
      },
      "source": [
        "Y_pred2 = [np.argmax(a) for a in Y_predicted2]"
      ],
      "execution_count": null,
      "outputs": []
    },
    {
      "cell_type": "code",
      "metadata": {
        "id": "BQs7By--Jr0S"
      },
      "source": [
        "le.inverse_transform(Y_pred2)"
      ],
      "execution_count": null,
      "outputs": []
    },
    {
      "cell_type": "code",
      "metadata": {
        "id": "VAU3JK4qJr0S"
      },
      "source": [
        "stop_words = ['g','kg','gr','adet','l','x','ml','xg','tb','x','m','l','rfa','k','kg*','xml','prm']\n",
        "def removeStopWords(sentence):\n",
        "    for word in stop_words:\n",
        "        token = \" \" + word + \" \"\n",
        "        sentence = sentence.replace(token, \" \")\n",
        "    return sentence\n",
        "    "
      ],
      "execution_count": null,
      "outputs": []
    },
    {
      "cell_type": "code",
      "metadata": {
        "id": "a1_3C-eRJr0S"
      },
      "source": [
        "headers = ['coicop', 'urun_adi']\n",
        "dtypes = {'coicop': 'str', 'urun_adi': 'str'}\n",
        "df = pd.read_csv('D:\\\\TuikUser\\\\39688123572\\\\Desktop\\\\barkod.csv',delimiter='@',header=None, names=headers,dtype=dtypes)\n",
        "import locale\n",
        "locale.setlocale(locale.LC_ALL, 'tr_TR.utf8')\n",
        "df = df[df['coicop'].str.len()==5]\n",
        "df = df[df['urun_adi'].str.len()>1]\n",
        "df['urun_adi'] = [x.lower() for x in df['urun_adi']]\n",
        "df['urun_adi']=[removeStopWords(x) for x in df['urun_adi']]\n",
        "df.head()"
      ],
      "execution_count": null,
      "outputs": []
    },
    {
      "cell_type": "code",
      "metadata": {
        "id": "gmyOGY1BJr0S"
      },
      "source": [
        "X = df['urun_adi'].astype(str)\n",
        "Y = df['coicop']\n",
        "le = LabelEncoder()\n",
        "Y = le.fit_transform(Y)\n",
        "Y = Y.reshape(-1,1)"
      ],
      "execution_count": null,
      "outputs": []
    },
    {
      "cell_type": "code",
      "metadata": {
        "id": "qIwVPHDmJr0S"
      },
      "source": [
        "X_train,X_test,Y_train,Y_test = train_test_split(X,Y,test_size=0.1,random_state=42)\n",
        "max_words = 4000\n",
        "max_len = 200\n",
        "tok = Tokenizer(num_words=max_words)\n",
        "tok.fit_on_texts(X_train)\n",
        "word_index = tok.word_index\n",
        "sequences = tok.texts_to_sequences(X_train)\n",
        "sequences_matrix = sequence.pad_sequences(sequences,maxlen=max_len)"
      ],
      "execution_count": null,
      "outputs": []
    },
    {
      "cell_type": "code",
      "metadata": {
        "id": "iiu_Yrj9Jr0S"
      },
      "source": [
        "def RNN():\n",
        "    inputs = Input(name='inputs',shape=[max_len])\n",
        "    layer = Embedding(max_words,50,input_length=max_len)(inputs)\n",
        "    layer = LSTM(64)(layer)\n",
        "    layer = Dense(256,name='FC1')(layer)\n",
        "    layer = Activation('relu')(layer)\n",
        "    layer = Dropout(0.2)(layer)\n",
        "    layer = Dense(68,name='out_layer')(layer)\n",
        "    layer = Activation('softmax')(layer)\n",
        "    model = Model(inputs=inputs,outputs=layer)\n",
        "    return model"
      ],
      "execution_count": null,
      "outputs": []
    },
    {
      "cell_type": "code",
      "metadata": {
        "id": "FD26TY3tJr0S"
      },
      "source": [
        "import tensorflow as tf\n",
        "model = RNN()\n",
        "model.summary()\n",
        "model.compile(loss='sparse_categorical_crossentropy',optimizer='adam',metrics=['accuracy'])"
      ],
      "execution_count": null,
      "outputs": []
    },
    {
      "cell_type": "code",
      "metadata": {
        "id": "RrzsJonVJr0S"
      },
      "source": [
        "history = model.fit(sequences_matrix,Y_train,batch_size=128,epochs=10,\n",
        "          validation_split=0.2,callbacks=[EarlyStopping(monitor='val_loss',min_delta=0.0001)])"
      ],
      "execution_count": null,
      "outputs": []
    },
    {
      "cell_type": "code",
      "metadata": {
        "id": "1Jpr_bFcJr0S"
      },
      "source": [
        "%load_ext tensorboard"
      ],
      "execution_count": null,
      "outputs": []
    },
    {
      "cell_type": "code",
      "metadata": {
        "id": "v10Ri_jsJr0S"
      },
      "source": [
        "from sklearn.metrics import accuracy_score"
      ],
      "execution_count": null,
      "outputs": []
    },
    {
      "cell_type": "code",
      "metadata": {
        "id": "GZi2cIMIJr0S"
      },
      "source": [
        "le.inverse_transform(Y_test)"
      ],
      "execution_count": null,
      "outputs": []
    },
    {
      "cell_type": "code",
      "metadata": {
        "id": "xkjtF2kLJr0S"
      },
      "source": [
        "accuracy_score(y_pred=predicted_coicops, y_true=le.inverse_transform(Y_test))"
      ],
      "execution_count": null,
      "outputs": []
    },
    {
      "cell_type": "code",
      "metadata": {
        "id": "CSvf18ugJr0S"
      },
      "source": [
        "predicted_coicops"
      ],
      "execution_count": null,
      "outputs": []
    },
    {
      "cell_type": "code",
      "metadata": {
        "id": "K6w_hi7KJr0T"
      },
      "source": [
        "y_predicted = model.predict(test_sequences_matrix)"
      ],
      "execution_count": null,
      "outputs": []
    },
    {
      "cell_type": "code",
      "metadata": {
        "id": "BYDN1SOBJr0T"
      },
      "source": [
        "y_predicted = [np.argmax(y) for y in y_predicted]"
      ],
      "execution_count": null,
      "outputs": []
    },
    {
      "cell_type": "code",
      "metadata": {
        "id": "UjhvhuWGJr0T"
      },
      "source": [
        "y_predicted"
      ],
      "execution_count": null,
      "outputs": []
    },
    {
      "cell_type": "code",
      "metadata": {
        "id": "qpv957PPJr0T"
      },
      "source": [
        "Y_test"
      ],
      "execution_count": null,
      "outputs": []
    },
    {
      "cell_type": "code",
      "metadata": {
        "id": "5AFQ-VjIJr0T"
      },
      "source": [
        "accuracy_score(y_pred=y_predicted,y_true=Y_test)"
      ],
      "execution_count": null,
      "outputs": []
    },
    {
      "cell_type": "code",
      "metadata": {
        "id": "p-hW8f2gJr0T"
      },
      "source": [
        "from sklearn.metrics import f1_score\n"
      ],
      "execution_count": null,
      "outputs": []
    },
    {
      "cell_type": "code",
      "metadata": {
        "colab": {
          "base_uri": "https://localhost:8080/",
          "height": 312
        },
        "id": "EOnIAGbyJr0T",
        "outputId": "34e511f4-48dc-40d5-dbd4-2da6328e2641"
      },
      "source": [
        "f1_score(y_pred=y_predicted,y_true=Y_test, average='micro')"
      ],
      "execution_count": null,
      "outputs": [
        {
          "output_type": "error",
          "ename": "ValueError",
          "evalue": "ignored",
          "traceback": [
            "\u001b[0;31m---------------------------------------------------------------------------\u001b[0m",
            "\u001b[0;31mValueError\u001b[0m                                Traceback (most recent call last)",
            "\u001b[0;32m<ipython-input-30-37c1e6b13e5e>\u001b[0m in \u001b[0;36m<module>\u001b[0;34m()\u001b[0m\n\u001b[0;32m----> 1\u001b[0;31m \u001b[0mf1_score\u001b[0m\u001b[0;34m(\u001b[0m\u001b[0my_pred\u001b[0m\u001b[0;34m=\u001b[0m\u001b[0my_predicted\u001b[0m\u001b[0;34m,\u001b[0m\u001b[0my_true\u001b[0m\u001b[0;34m=\u001b[0m\u001b[0mY_test\u001b[0m\u001b[0;34m,\u001b[0m \u001b[0maverage\u001b[0m\u001b[0;34m=\u001b[0m\u001b[0;34m'micro'\u001b[0m\u001b[0;34m)\u001b[0m\u001b[0;34m\u001b[0m\u001b[0;34m\u001b[0m\u001b[0m\n\u001b[0m",
            "\u001b[0;32m/usr/local/lib/python3.7/dist-packages/sklearn/metrics/_classification.py\u001b[0m in \u001b[0;36mf1_score\u001b[0;34m(y_true, y_pred, labels, pos_label, average, sample_weight, zero_division)\u001b[0m\n\u001b[1;32m   1119\u001b[0m         \u001b[0maverage\u001b[0m\u001b[0;34m=\u001b[0m\u001b[0maverage\u001b[0m\u001b[0;34m,\u001b[0m\u001b[0;34m\u001b[0m\u001b[0;34m\u001b[0m\u001b[0m\n\u001b[1;32m   1120\u001b[0m         \u001b[0msample_weight\u001b[0m\u001b[0;34m=\u001b[0m\u001b[0msample_weight\u001b[0m\u001b[0;34m,\u001b[0m\u001b[0;34m\u001b[0m\u001b[0;34m\u001b[0m\u001b[0m\n\u001b[0;32m-> 1121\u001b[0;31m         \u001b[0mzero_division\u001b[0m\u001b[0;34m=\u001b[0m\u001b[0mzero_division\u001b[0m\u001b[0;34m,\u001b[0m\u001b[0;34m\u001b[0m\u001b[0;34m\u001b[0m\u001b[0m\n\u001b[0m\u001b[1;32m   1122\u001b[0m     )\n\u001b[1;32m   1123\u001b[0m \u001b[0;34m\u001b[0m\u001b[0m\n",
            "\u001b[0;32m/usr/local/lib/python3.7/dist-packages/sklearn/metrics/_classification.py\u001b[0m in \u001b[0;36mfbeta_score\u001b[0;34m(y_true, y_pred, beta, labels, pos_label, average, sample_weight, zero_division)\u001b[0m\n\u001b[1;32m   1258\u001b[0m         \u001b[0mwarn_for\u001b[0m\u001b[0;34m=\u001b[0m\u001b[0;34m(\u001b[0m\u001b[0;34m\"f-score\"\u001b[0m\u001b[0;34m,\u001b[0m\u001b[0;34m)\u001b[0m\u001b[0;34m,\u001b[0m\u001b[0;34m\u001b[0m\u001b[0;34m\u001b[0m\u001b[0m\n\u001b[1;32m   1259\u001b[0m         \u001b[0msample_weight\u001b[0m\u001b[0;34m=\u001b[0m\u001b[0msample_weight\u001b[0m\u001b[0;34m,\u001b[0m\u001b[0;34m\u001b[0m\u001b[0;34m\u001b[0m\u001b[0m\n\u001b[0;32m-> 1260\u001b[0;31m         \u001b[0mzero_division\u001b[0m\u001b[0;34m=\u001b[0m\u001b[0mzero_division\u001b[0m\u001b[0;34m,\u001b[0m\u001b[0;34m\u001b[0m\u001b[0;34m\u001b[0m\u001b[0m\n\u001b[0m\u001b[1;32m   1261\u001b[0m     )\n\u001b[1;32m   1262\u001b[0m     \u001b[0;32mreturn\u001b[0m \u001b[0mf\u001b[0m\u001b[0;34m\u001b[0m\u001b[0;34m\u001b[0m\u001b[0m\n",
            "\u001b[0;32m/usr/local/lib/python3.7/dist-packages/sklearn/metrics/_classification.py\u001b[0m in \u001b[0;36mprecision_recall_fscore_support\u001b[0;34m(y_true, y_pred, beta, labels, pos_label, average, warn_for, sample_weight, zero_division)\u001b[0m\n\u001b[1;32m   1532\u001b[0m     \u001b[0;32mif\u001b[0m \u001b[0mbeta\u001b[0m \u001b[0;34m<\u001b[0m \u001b[0;36m0\u001b[0m\u001b[0;34m:\u001b[0m\u001b[0;34m\u001b[0m\u001b[0;34m\u001b[0m\u001b[0m\n\u001b[1;32m   1533\u001b[0m         \u001b[0;32mraise\u001b[0m \u001b[0mValueError\u001b[0m\u001b[0;34m(\u001b[0m\u001b[0;34m\"beta should be >=0 in the F-beta score\"\u001b[0m\u001b[0;34m)\u001b[0m\u001b[0;34m\u001b[0m\u001b[0;34m\u001b[0m\u001b[0m\n\u001b[0;32m-> 1534\u001b[0;31m     \u001b[0mlabels\u001b[0m \u001b[0;34m=\u001b[0m \u001b[0m_check_set_wise_labels\u001b[0m\u001b[0;34m(\u001b[0m\u001b[0my_true\u001b[0m\u001b[0;34m,\u001b[0m \u001b[0my_pred\u001b[0m\u001b[0;34m,\u001b[0m \u001b[0maverage\u001b[0m\u001b[0;34m,\u001b[0m \u001b[0mlabels\u001b[0m\u001b[0;34m,\u001b[0m \u001b[0mpos_label\u001b[0m\u001b[0;34m)\u001b[0m\u001b[0;34m\u001b[0m\u001b[0;34m\u001b[0m\u001b[0m\n\u001b[0m\u001b[1;32m   1535\u001b[0m \u001b[0;34m\u001b[0m\u001b[0m\n\u001b[1;32m   1536\u001b[0m     \u001b[0;31m# Calculate tp_sum, pred_sum, true_sum ###\u001b[0m\u001b[0;34m\u001b[0m\u001b[0;34m\u001b[0m\u001b[0;34m\u001b[0m\u001b[0m\n",
            "\u001b[0;32m/usr/local/lib/python3.7/dist-packages/sklearn/metrics/_classification.py\u001b[0m in \u001b[0;36m_check_set_wise_labels\u001b[0;34m(y_true, y_pred, average, labels, pos_label)\u001b[0m\n\u001b[1;32m   1336\u001b[0m         \u001b[0;32mraise\u001b[0m \u001b[0mValueError\u001b[0m\u001b[0;34m(\u001b[0m\u001b[0;34m\"average has to be one of \"\u001b[0m \u001b[0;34m+\u001b[0m \u001b[0mstr\u001b[0m\u001b[0;34m(\u001b[0m\u001b[0maverage_options\u001b[0m\u001b[0;34m)\u001b[0m\u001b[0;34m)\u001b[0m\u001b[0;34m\u001b[0m\u001b[0;34m\u001b[0m\u001b[0m\n\u001b[1;32m   1337\u001b[0m \u001b[0;34m\u001b[0m\u001b[0m\n\u001b[0;32m-> 1338\u001b[0;31m     \u001b[0my_type\u001b[0m\u001b[0;34m,\u001b[0m \u001b[0my_true\u001b[0m\u001b[0;34m,\u001b[0m \u001b[0my_pred\u001b[0m \u001b[0;34m=\u001b[0m \u001b[0m_check_targets\u001b[0m\u001b[0;34m(\u001b[0m\u001b[0my_true\u001b[0m\u001b[0;34m,\u001b[0m \u001b[0my_pred\u001b[0m\u001b[0;34m)\u001b[0m\u001b[0;34m\u001b[0m\u001b[0;34m\u001b[0m\u001b[0m\n\u001b[0m\u001b[1;32m   1339\u001b[0m     \u001b[0;31m# Convert to Python primitive type to avoid NumPy type / Python str\u001b[0m\u001b[0;34m\u001b[0m\u001b[0;34m\u001b[0m\u001b[0;34m\u001b[0m\u001b[0m\n\u001b[1;32m   1340\u001b[0m     \u001b[0;31m# comparison. See https://github.com/numpy/numpy/issues/6784\u001b[0m\u001b[0;34m\u001b[0m\u001b[0;34m\u001b[0m\u001b[0;34m\u001b[0m\u001b[0m\n",
            "\u001b[0;32m/usr/local/lib/python3.7/dist-packages/sklearn/metrics/_classification.py\u001b[0m in \u001b[0;36m_check_targets\u001b[0;34m(y_true, y_pred)\u001b[0m\n\u001b[1;32m     93\u001b[0m         raise ValueError(\n\u001b[1;32m     94\u001b[0m             \"Classification metrics can't handle a mix of {0} and {1} targets\".format(\n\u001b[0;32m---> 95\u001b[0;31m                 \u001b[0mtype_true\u001b[0m\u001b[0;34m,\u001b[0m \u001b[0mtype_pred\u001b[0m\u001b[0;34m\u001b[0m\u001b[0;34m\u001b[0m\u001b[0m\n\u001b[0m\u001b[1;32m     96\u001b[0m             )\n\u001b[1;32m     97\u001b[0m         )\n",
            "\u001b[0;31mValueError\u001b[0m: Classification metrics can't handle a mix of multiclass and continuous-multioutput targets"
          ]
        }
      ]
    },
    {
      "cell_type": "code",
      "source": [
        "nltk.download('punkt')"
      ],
      "metadata": {
        "id": "lUxh-OgsKIg3",
        "outputId": "f9368704-57f9-403a-a0c4-2ed30a225fbf",
        "colab": {
          "base_uri": "https://localhost:8080/"
        }
      },
      "execution_count": 4,
      "outputs": [
        {
          "output_type": "stream",
          "name": "stdout",
          "text": [
            "[nltk_data] Downloading package punkt to /root/nltk_data...\n",
            "[nltk_data]   Unzipping tokenizers/punkt.zip.\n"
          ]
        },
        {
          "output_type": "execute_result",
          "data": {
            "text/plain": [
              "True"
            ]
          },
          "metadata": {},
          "execution_count": 4
        }
      ]
    },
    {
      "cell_type": "code",
      "source": [
        "# Ali osman SVM kodu\n",
        "\n",
        "import pandas as pd\n",
        "import locale\n",
        "import string\n",
        "import nltk\n",
        "import time\n",
        "\n",
        "df = pd.read_csv('/content/drive/MyDrive/Doktora/kariyernet_is_ilanlari.csv',sep='|')\n",
        "df = df.loc[:,['title','isco08']]\n",
        "df = df.drop_duplicates()\n",
        "df['isco08'] = df['isco08'].astype(int)\n",
        "df['isco08'].unique()\n",
        "df = df[df['isco08'].map(df['isco08'].value_counts()) >5]\n",
        "df['isco08'].unique()\n",
        "df.groupby('isco08').size()\n",
        "le = LabelEncoder()\n",
        "df['encoded_categories'] = le.fit_transform(df['isco08'])\n",
        "\n",
        "#len(df['coicop'].unique())\n",
        "\n",
        "X_orj = df['title'].astype(str)\n",
        "Y = df['encoded_categories']\n",
        "\n",
        "from collections import Counter\n",
        "c= Counter(X_orj)\n",
        "\n",
        "\n",
        "def preprocess(text):\n",
        "    #Remove punctuation characters    \n",
        "    text= \" \".join(\"\".join([\" \" if ch in string.punctuation else ch for ch in str(text)]).split())\n",
        "    \n",
        "    #Extract Tokens\n",
        "    tokens= [word for sent in nltk.sent_tokenize(text) for word in nltk.word_tokenize(sent)]\n",
        "    \n",
        "    #Convert to lowercase\n",
        "    tokens= [word.lower() for word in tokens]\n",
        "        \n",
        "    #keeping only  the words haing at least three characters\n",
        "    #tokens=[word for word in tokens if len(word)>=2]\n",
        "    \n",
        "    return tokens\n",
        "\n",
        "X = []\n",
        "for row in X_orj:\n",
        "    X.append(preprocess(row))\n",
        "\n",
        "#splitting train and test data\n",
        "from sklearn.model_selection import train_test_split\n",
        "#x_train, x_test, y_train, y_test = train_test_split(X, Y, test_size=0.25, random_state=42 )\n",
        "x_train,x_test,y_train,y_test = train_test_split(X, Y, random_state=42, stratify=df.encoded_categories,test_size=0.2)   \n",
        "#creating tfidfVektor\n",
        "from sklearn.feature_extraction.text import TfidfVectorizer\n",
        "vectorizer = TfidfVectorizer(norm='l2', max_features=4000,tokenizer=lambda x: x,preprocessor=lambda x: x,token_pattern=None)\n",
        "x_train_tfidf= vectorizer.fit_transform(x_train).todense()\n",
        "x_test_tfidf= vectorizer.transform(x_test).todense()\n",
        "x_train_tfidf.shape\n",
        "\n",
        "#fitting by classificiaton\n",
        "from sklearn.svm import LinearSVC\n",
        "start = time.time()\n",
        "clf = LinearSVC(loss='hinge', C=1, max_iter=1000)\n",
        "clf = clf.fit(x_train_tfidf, y_train)\n",
        "last=time.time()\n",
        "print(last - start)\n",
        "\n",
        "#prediction\n",
        "ytrain_nb_predicted= clf.predict(x_train_tfidf)\n",
        "ytest_nb_predicted= clf.predict(x_test_tfidf)\n",
        "\n",
        "#Assesments\n",
        "from sklearn.metrics import classification_report,accuracy_score,f1_score\n",
        "\n",
        "#calculating accuracy and f-score for test set\n",
        "test_acc = accuracy_score(y_test, ytest_nb_predicted)\n",
        "print(\"Accuracy for test data=\", round(test_acc,3))\n",
        "test_f1 = f1_score(y_test, ytest_nb_predicted, average='macro')\n",
        "print(\"f1 score for test data=\", round(test_f1,3))\n",
        "\n",
        "print(\"Test Classification Report\")\n",
        "print(classification_report(y_test,ytest_nb_predicted))\n",
        "\n",
        "#confusion matrix for test set\n",
        "print(\"Confusion matrix for test set\")\n",
        "confusuion_matrix=pd.crosstab(ytest_nb_predicted,y_test, rownames=[\"Predicted\"], colnames=[\"Actual\"])\n",
        "#confusuion_matrix.to_csv('D:\\\\TuikUser\\\\39688123572\\\\Desktop\\\\svm_output.csv')\n",
        "\n",
        "\n"
      ],
      "metadata": {
        "id": "dwfJ-HS7JdyO",
        "outputId": "d571332e-375e-4f04-db85-6199d60be0c6",
        "colab": {
          "base_uri": "https://localhost:8080/"
        }
      },
      "execution_count": 6,
      "outputs": [
        {
          "output_type": "stream",
          "name": "stdout",
          "text": [
            "0.014637947082519531\n",
            "Accuracy for test data= 0.883\n",
            "f1 score for test data= 0.907\n",
            "Test Classification Report\n",
            "              precision    recall  f1-score   support\n",
            "\n",
            "           0       0.83      0.71      0.77         7\n",
            "           1       0.90      1.00      0.95         9\n",
            "           2       1.00      1.00      1.00         2\n",
            "           3       0.83      0.83      0.83        12\n",
            "           4       0.75      1.00      0.86         6\n",
            "           5       1.00      1.00      1.00         3\n",
            "           6       1.00      0.70      0.82        10\n",
            "           7       0.80      0.80      0.80         5\n",
            "           8       0.86      1.00      0.92        12\n",
            "           9       1.00      0.88      0.93         8\n",
            "          10       1.00      1.00      1.00         2\n",
            "          11       1.00      1.00      1.00         1\n",
            "\n",
            "    accuracy                           0.88        77\n",
            "   macro avg       0.91      0.91      0.91        77\n",
            "weighted avg       0.89      0.88      0.88        77\n",
            "\n",
            "Confusion matrix for test set\n"
          ]
        },
        {
          "output_type": "stream",
          "name": "stderr",
          "text": [
            "/usr/local/lib/python3.7/dist-packages/sklearn/utils/validation.py:590: FutureWarning: np.matrix usage is deprecated in 1.0 and will raise a TypeError in 1.2. Please convert to a numpy array with np.asarray. For more information see: https://numpy.org/doc/stable/reference/generated/numpy.matrix.html\n",
            "  FutureWarning,\n",
            "/usr/local/lib/python3.7/dist-packages/sklearn/utils/validation.py:590: FutureWarning: np.matrix usage is deprecated in 1.0 and will raise a TypeError in 1.2. Please convert to a numpy array with np.asarray. For more information see: https://numpy.org/doc/stable/reference/generated/numpy.matrix.html\n",
            "  FutureWarning,\n",
            "/usr/local/lib/python3.7/dist-packages/sklearn/utils/validation.py:590: FutureWarning: np.matrix usage is deprecated in 1.0 and will raise a TypeError in 1.2. Please convert to a numpy array with np.asarray. For more information see: https://numpy.org/doc/stable/reference/generated/numpy.matrix.html\n",
            "  FutureWarning,\n"
          ]
        }
      ]
    },
    {
      "cell_type": "code",
      "metadata": {
        "id": "i2aKntX9Jr0T"
      },
      "source": [
        "# Ali osman SVM kodu\n",
        "\n",
        "import pandas as pd\n",
        "import locale\n",
        "import string\n",
        "import nltk\n",
        "import time\n",
        "\n",
        "\n",
        "headers = ['coicop', 'urun_adi']\n",
        "dtypes = {'coicop': 'str', 'urun_adi': 'str'}\n",
        "df = pd.read_csv('D:\\\\TuikUser\\\\39688123572\\\\Desktop\\\\barkod.csv',delimiter='@',header=None, names=headers,dtype=dtypes)\n",
        "\n",
        "locale.setlocale(locale.LC_ALL, 'tr_TR.utf8')\n",
        "df = df[df['coicop'].str.len()==5]\n",
        "df = df[df['urun_adi'].str.len()>1]\n",
        "#len(df['coicop'].unique())\n",
        "\n",
        "X_orj = df['urun_adi'].astype(str)\n",
        "Y = df['coicop']\n",
        "\n",
        "from collections import Counter\n",
        "c= Counter(X_orj)\n",
        "\n",
        "\n",
        "def preprocess(text):\n",
        "    #Remove punctuation characters    \n",
        "    text= \" \".join(\"\".join([\" \" if ch in string.punctuation else ch for ch in str(text)]).split())\n",
        "    \n",
        "    #Extract Tokens\n",
        "    tokens= [word for sent in nltk.sent_tokenize(text) for word in nltk.word_tokenize(sent)]\n",
        "    \n",
        "    #Convert to lowercase\n",
        "    tokens= [word.lower() for word in tokens]\n",
        "        \n",
        "    #keeping only  the words haing at least three characters\n",
        "    #tokens=[word for word in tokens if len(word)>=2]\n",
        "    \n",
        "    return tokens\n",
        "\n",
        "X = []\n",
        "for row in X_orj:\n",
        "    X.append(preprocess(row))\n",
        "\n",
        "#splitting train and test data\n",
        "from sklearn.model_selection import train_test_split\n",
        "x_train, x_test, y_train, y_test = train_test_split(X, Y, test_size=0.25, random_state=42 )\n",
        "\n",
        "#creating tfidfVektor\n",
        "from sklearn.feature_extraction.text import TfidfVectorizer\n",
        "vectorizer = TfidfVectorizer(norm='l2', max_features=4000,tokenizer=lambda x: x,preprocessor=lambda x: x,token_pattern=None)\n",
        "x_train_tfidf= vectorizer.fit_transform(x_train).todense()\n",
        "x_test_tfidf= vectorizer.transform(x_test).todense()\n",
        "x_train_tfidf.shape\n",
        "\n",
        "#fitting by classificiaton\n",
        "from sklearn.svm import LinearSVC\n",
        "start = time.time()\n",
        "clf = LinearSVC(loss='hinge', C=1, max_iter=1000)\n",
        "clf = clf.fit(x_train_tfidf, y_train)\n",
        "last=time.time()\n",
        "print(last - start)\n",
        "\n",
        "#prediction\n",
        "ytrain_nb_predicted= clf.predict(x_train_tfidf)\n",
        "ytest_nb_predicted= clf.predict(x_test_tfidf)\n",
        "\n",
        "#Assesments\n",
        "from sklearn.metrics import classification_report,accuracy_score,f1_score\n",
        "\n",
        "#calculating accuracy and f-score for test set\n",
        "test_acc = accuracy_score(y_test, ytest_nb_predicted)\n",
        "print(\"Accuracy for test data=\", round(test_acc,3))\n",
        "test_f1 = f1_score(y_test, ytest_nb_predicted, average='macro')\n",
        "print(\"f1 score for test data=\", round(test_f1,3))\n",
        "\n",
        "print(\"Test Classification Report\")\n",
        "print(classification_report(y_test,ytest_nb_predicted))\n",
        "\n",
        "#confusion matrix for test set\n",
        "print(\"Confusion matrix for test set\")\n",
        "confusuion_matrix=pd.crosstab(ytest_nb_predicted,y_test, rownames=[\"Predicted\"], colnames=[\"Actual\"])\n",
        "confusuion_matrix.to_csv('D:\\\\TuikUser\\\\39688123572\\\\Desktop\\\\svm_output.csv')\n",
        "\n",
        "\n",
        "\n"
      ],
      "execution_count": null,
      "outputs": []
    },
    {
      "cell_type": "code",
      "metadata": {
        "id": "gtf6gAd5Jr0T"
      },
      "source": [
        ""
      ],
      "execution_count": null,
      "outputs": []
    }
  ]
}